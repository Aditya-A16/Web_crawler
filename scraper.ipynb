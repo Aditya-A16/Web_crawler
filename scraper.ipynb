{
 "cells": [
  {
   "cell_type": "code",
   "execution_count": 4,
   "metadata": {},
   "outputs": [],
   "source": [
    "from selenium import webdriver\n",
    "from selenium.webdriver.common.by import By\n",
    "from selenium.webdriver.chrome.service import Service\n",
    "from selenium.webdriver.common.keys import Keys\n",
    "from selenium.webdriver.common.desired_capabilities import DesiredCapabilities\n",
    "from selenium.webdriver.common.action_chains import ActionChains\n",
    "\n"
   ]
  },
  {
   "cell_type": "code",
   "execution_count": 17,
   "metadata": {},
   "outputs": [
    {
     "name": "stdout",
     "output_type": "stream",
     "text": [
      "Error: 'WebElement' object is not iterable\n"
     ]
    }
   ],
   "source": [
    "# Set up the Chrome WebDriver (replace with Firefox if you prefer)\n",
    " # Replace with the path to your chromedriver executable\n",
    "driver = webdriver.Chrome()\n",
    "\n",
    "# Define the URL of the webpage you want to scrape\n",
    "url = 'https://community.petcloud.com.au/portal/en/kb/articles/what-is-petcloud'  # Replace with your target URL\n",
    "\n",
    "# Open the webpage using Selenium\n",
    "driver.get(url)\n",
    "\n",
    "try:\n",
    "    # Find the meta tag with p tags\n",
    "    elements = driver.find_element(By.CSS_SELECTOR, 'div.description.KbDetailLtContainer__description')\n",
    "\n",
    "    # Print the text content of each matching <p> element\n",
    "    for element in elements:\n",
    "        print(element.text)\n",
    "\n",
    "except Exception as e:\n",
    "    print(\"Error:\", str(e))\n",
    "finally:\n",
    "    # Close the Selenium WebDriver\n",
    "    driver.quit()"
   ]
  }
 ],
 "metadata": {
  "kernelspec": {
   "display_name": "venv_crawler",
   "language": "python",
   "name": "python3"
  },
  "language_info": {
   "codemirror_mode": {
    "name": "ipython",
    "version": 3
   },
   "file_extension": ".py",
   "mimetype": "text/x-python",
   "name": "python",
   "nbconvert_exporter": "python",
   "pygments_lexer": "ipython3",
   "version": "3.11.4"
  },
  "orig_nbformat": 4
 },
 "nbformat": 4,
 "nbformat_minor": 2
}
